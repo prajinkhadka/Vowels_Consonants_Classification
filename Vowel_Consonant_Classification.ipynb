{
  "nbformat": 4,
  "nbformat_minor": 0,
  "metadata": {
    "colab": {
      "name": "Vowel_Consonant_Classification.ipynb",
      "provenance": []
    },
    "kernelspec": {
      "name": "python3",
      "display_name": "Python 3"
    },
    "accelerator": "GPU"
  },
  "cells": [
    {
      "cell_type": "code",
      "metadata": {
        "id": "E9nku49F7qMg",
        "colab_type": "code",
        "colab": {
          "base_uri": "https://localhost:8080/",
          "height": 127
        },
        "outputId": "eac04ffd-0ca3-4f66-9d09-dfd6b306d7f4"
      },
      "source": [
        "from google.colab import drive\n",
        "drive.mount('/content/drive')"
      ],
      "execution_count": 1,
      "outputs": [
        {
          "output_type": "stream",
          "text": [
            "Go to this URL in a browser: https://accounts.google.com/o/oauth2/auth?client_id=947318989803-6bn6qk8qdgf4n4g3pfee6491hc0brc4i.apps.googleusercontent.com&redirect_uri=urn%3aietf%3awg%3aoauth%3a2.0%3aoob&response_type=code&scope=email%20https%3a%2f%2fwww.googleapis.com%2fauth%2fdocs.test%20https%3a%2f%2fwww.googleapis.com%2fauth%2fdrive%20https%3a%2f%2fwww.googleapis.com%2fauth%2fdrive.photos.readonly%20https%3a%2f%2fwww.googleapis.com%2fauth%2fpeopleapi.readonly\n",
            "\n",
            "Enter your authorization code:\n",
            "··········\n",
            "Mounted at /content/drive\n"
          ],
          "name": "stdout"
        }
      ]
    },
    {
      "cell_type": "code",
      "metadata": {
        "id": "ogS_tHto7tNP",
        "colab_type": "code",
        "colab": {}
      },
      "source": [
        "import zipfile\n",
        "import os"
      ],
      "execution_count": 0,
      "outputs": []
    },
    {
      "cell_type": "code",
      "metadata": {
        "id": "GIIjZ5o87vqr",
        "colab_type": "code",
        "colab": {}
      },
      "source": [
        "\n",
        "train_path = '/content/drive/My Drive/padhai-hindi-vow-cons-classification.zip'\n",
        "\n",
        "with zipfile.ZipFile(train_path, 'r') as zip:\n",
        "    zip.extractall()"
      ],
      "execution_count": 0,
      "outputs": []
    },
    {
      "cell_type": "code",
      "metadata": {
        "id": "gz_U8_0I7zJD",
        "colab_type": "code",
        "colab": {}
      },
      "source": [
        "import os\n",
        "from PIL import Image\n",
        "import matplotlib.pyplot as plt\n",
        "\n",
        "import torch\n",
        "import torchvision\n",
        "from torch.utils.data import DataLoader, Dataset, random_split\n",
        "import torchvision.transforms as transforms\n",
        "\n",
        "#For converting the dataset to torchvision dataset format\n",
        "class VowelConsonantDataset(Dataset):\n",
        "    def __init__(self, file_path,train=True,transform=None):\n",
        "        self.transform = transform\n",
        "        self.file_path=file_path\n",
        "        self.train=train\n",
        "        self.file_names=[file for _,_,files in os.walk(self.file_path) for file in files]\n",
        "        self.len = len(self.file_names)\n",
        "        if self.train:\n",
        "            self.classes_mapping=self.get_classes()\n",
        "    def __len__(self):\n",
        "        return len(self.file_names)\n",
        "    \n",
        "    def __getitem__(self, index):\n",
        "        file_name=self.file_names[index]\n",
        "        image_data=self.pil_loader(self.file_path+\"/\"+file_name)\n",
        "        if self.transform:\n",
        "            image_data = self.transform(image_data)\n",
        "        if self.train:\n",
        "            file_name_splitted=file_name.split(\"_\")\n",
        "            Y1 = self.classes_mapping[file_name_splitted[0]]\n",
        "            Y2 = self.classes_mapping[file_name_splitted[1]]\n",
        "\n",
        "            \n",
        "            z1,z2=torch.zeros(10),torch.zeros(10)\n",
        "            z1[Y1-10],z2[Y2]=1,1\n",
        "            label=torch.stack([z1,z2])\n",
        "\n",
        "            return image_data, label\n",
        "\n",
        "        else:\n",
        "            return image_data, file_name\n",
        "          \n",
        "    def pil_loader(self,path):\n",
        "        with open(path, 'rb') as f:\n",
        "            img = Image.open(f)\n",
        "            return img.convert('RGB')\n",
        "\n",
        "      \n",
        "    def get_classes(self):\n",
        "        classes=[]\n",
        "        for name in self.file_names:\n",
        "            name_splitted=name.split(\"_\")\n",
        "            classes.extend([name_splitted[0],name_splitted[1]])\n",
        "        classes=list(set(classes))\n",
        "        classes_mapping={}\n",
        "        for i,cl in enumerate(sorted(classes)):\n",
        "            classes_mapping[cl]=i\n",
        "        return classes_mapping\n",
        "    "
      ],
      "execution_count": 0,
      "outputs": []
    },
    {
      "cell_type": "code",
      "metadata": {
        "id": "-V_E4SN5700y",
        "colab_type": "code",
        "colab": {}
      },
      "source": [
        "import torch\n",
        "import torch.nn as nn\n",
        "import torch.nn.functional as F\n",
        "import torch.optim as optim\n",
        "\n",
        "import torchvision\n",
        "import matplotlib.pyplot as plt\n",
        "from torchvision import datasets\n",
        "\n",
        "import torchvision.transforms as transforms\n",
        "\n",
        "import numpy as np\n",
        "import pandas as pd\n",
        "\n",
        "train_on_gpu = torch.cuda.is_available()"
      ],
      "execution_count": 0,
      "outputs": []
    },
    {
      "cell_type": "code",
      "metadata": {
        "id": "sWSBITaM72Sp",
        "colab_type": "code",
        "colab": {}
      },
      "source": [
        "transform = transforms.Compose([\n",
        "                            transforms.RandomResizedCrop(224),\n",
        "                            transforms.ToTensor(),\n",
        "                            transforms.Normalize((0.485, 0.456, 0.406), (0.229, 0.224, 0.225)) # mean and std in 3 channels with mean and std of 0.5 an 0.5\n",
        "])\n",
        "\n"
      ],
      "execution_count": 0,
      "outputs": []
    },
    {
      "cell_type": "code",
      "metadata": {
        "id": "Ck4qqCg37-OU",
        "colab_type": "code",
        "colab": {}
      },
      "source": [
        "full_data = VowelConsonantDataset(\"/content/train/train\",train=True,transform=transform)\n",
        "train_size = int(0.9 * len(full_data))\n",
        "test_size = len(full_data) - train_size\n",
        "\n",
        "train_data, validation_data = random_split(full_data, [train_size, test_size])\n",
        "\n",
        "train_loader = torch.utils.data.DataLoader(train_data, batch_size=64, shuffle=True)\n",
        "validation_loader = torch.utils.data.DataLoader(validation_data, batch_size=60, shuffle=True)"
      ],
      "execution_count": 0,
      "outputs": []
    },
    {
      "cell_type": "code",
      "metadata": {
        "id": "dDR3Phk_7_zG",
        "colab_type": "code",
        "colab": {}
      },
      "source": [
        "from torchvision import models"
      ],
      "execution_count": 0,
      "outputs": []
    },
    {
      "cell_type": "code",
      "metadata": {
        "id": "7DWHMWnP8Bek",
        "colab_type": "code",
        "colab": {}
      },
      "source": [
        "test_data = VowelConsonantDataset(\"/content/test/test\",\n",
        "                                  train=False,transform=transform)\n",
        "test_loader = torch.utils.data.DataLoader(test_data, batch_size=64,shuffle=False)"
      ],
      "execution_count": 0,
      "outputs": []
    },
    {
      "cell_type": "code",
      "metadata": {
        "id": "Z1eTqljc8CxZ",
        "colab_type": "code",
        "colab": {
          "base_uri": "https://localhost:8080/",
          "height": 35
        },
        "outputId": "4f0c7731-dc05-4573-d542-6f0a5015a74b"
      },
      "source": [
        "device = torch.device(\"cuda:0\" if torch.cuda.is_available() else \"cpu\")\n",
        "print(device)"
      ],
      "execution_count": 10,
      "outputs": [
        {
          "output_type": "stream",
          "text": [
            "cuda:0\n"
          ],
          "name": "stdout"
        }
      ]
    },
    {
      "cell_type": "code",
      "metadata": {
        "id": "icT95c548jTW",
        "colab_type": "code",
        "colab": {
          "base_uri": "https://localhost:8080/",
          "height": 35
        },
        "outputId": "aee9bca6-4142-44e9-cc62-577a00ba8e0f"
      },
      "source": [
        "x, y = next(iter(train_loader))\n",
        "print(x.shape, y.shape)"
      ],
      "execution_count": 11,
      "outputs": [
        {
          "output_type": "stream",
          "text": [
            "torch.Size([64, 3, 224, 224]) torch.Size([64, 2, 10])\n"
          ],
          "name": "stdout"
        }
      ]
    },
    {
      "cell_type": "code",
      "metadata": {
        "id": "YTBnuxN88l66",
        "colab_type": "code",
        "colab": {}
      },
      "source": [
        "def imshow(img, label):\n",
        "    label = label.squeeze()\n",
        "    title = f'V_{np.argmax(label[0])}C_{np.argmax(label[1])}'\n",
        "    npimg = img.numpy()\n",
        "    npimg = np.transpose(npimg, (1, 2, 0))\n",
        "    plt.imshow(npimg)\n",
        "    plt.title(title)\n",
        "    plt.axis('off')\n",
        "    plt.show()"
      ],
      "execution_count": 0,
      "outputs": []
    },
    {
      "cell_type": "code",
      "metadata": {
        "id": "sQbnlCQD8osX",
        "colab_type": "code",
        "colab": {
          "base_uri": "https://localhost:8080/",
          "height": 300
        },
        "outputId": "324fc8e3-873d-47a3-af12-365d7be78638"
      },
      "source": [
        "images, labels = next(iter(train_loader))\n",
        "temp = torchvision.utils.make_grid(images)\n",
        "print(temp.shape)\n",
        "imshow(temp, labels)"
      ],
      "execution_count": 13,
      "outputs": [
        {
          "output_type": "stream",
          "text": [
            "Clipping input data to the valid range for imshow with RGB data ([0..1] for floats or [0..255] for integers).\n"
          ],
          "name": "stderr"
        },
        {
          "output_type": "stream",
          "text": [
            "torch.Size([3, 1810, 1810])\n"
          ],
          "name": "stdout"
        },
        {
          "output_type": "display_data",
          "data": {
            "image/png": "[encoded data removed]",
            "text/plain": [
              "<Figure size 432x288 with 1 Axes>"
            ]
          },
          "metadata": {
            "tags": [],
            "needs_background": "light"
          }
        }
      ]
    },
    {
      "cell_type": "code",
      "metadata": {
        "id": "RsBD5MfX8p6g",
        "colab_type": "code",
        "colab": {}
      },
      "source": [
        "import torch.nn as nn\n",
        "import torch.optim as optim\n",
        "import torchvision.models as models\n",
        "from tqdm import tqdm_notebook"
      ],
      "execution_count": 0,
      "outputs": []
    },
    {
      "cell_type": "code",
      "metadata": {
        "id": "-a9AP5mN8r69",
        "colab_type": "code",
        "colab": {}
      },
      "source": [
        "loss_fn_v = nn.CrossEntropyLoss()\n",
        "loss_fn_c = nn.CrossEntropyLoss()\n",
        "\n"
      ],
      "execution_count": 0,
      "outputs": []
    },
    {
      "cell_type": "code",
      "metadata": {
        "id": "RjnIWfqO8ydN",
        "colab_type": "code",
        "colab": {}
      },
      "source": [
        "model_c = models.resnet18()\n",
        "model_v = models.resnet18()"
      ],
      "execution_count": 0,
      "outputs": []
    },
    {
      "cell_type": "code",
      "metadata": {
        "id": "h3jeHzYL8zvy",
        "colab_type": "code",
        "colab": {
          "base_uri": "https://localhost:8080/",
          "height": 1000
        },
        "outputId": "d3eeea23-11c8-40a2-929b-f6f1e0841982"
      },
      "source": [
        "model_c.fc = nn.Linear(512,10,bias=True)\n",
        "model_v.fc = nn.Linear(512,10,bias=True)\n",
        "\n",
        "model_c.to(device)\n",
        "model_v.to(device)"
      ],
      "execution_count": 17,
      "outputs": [
        {
          "output_type": "execute_result",
          "data": {
            "text/plain": [
              "ResNet(\n",
              "  (conv1): Conv2d(3, 64, kernel_size=(7, 7), stride=(2, 2), padding=(3, 3), bias=False)\n",
              "  (bn1): BatchNorm2d(64, eps=1e-05, momentum=0.1, affine=True, track_running_stats=True)\n",
              "  (relu): ReLU(inplace=True)\n",
              "  (maxpool): MaxPool2d(kernel_size=3, stride=2, padding=1, dilation=1, ceil_mode=False)\n",
              "  (layer1): Sequential(\n",
              "    (0): BasicBlock(\n",
              "      (conv1): Conv2d(64, 64, kernel_size=(3, 3), stride=(1, 1), padding=(1, 1), bias=False)\n",
              "      (bn1): BatchNorm2d(64, eps=1e-05, momentum=0.1, affine=True, track_running_stats=True)\n",
              "      (relu): ReLU(inplace=True)\n",
              "      (conv2): Conv2d(64, 64, kernel_size=(3, 3), stride=(1, 1), padding=(1, 1), bias=False)\n",
              "      (bn2): BatchNorm2d(64, eps=1e-05, momentum=0.1, affine=True, track_running_stats=True)\n",
              "    )\n",
              "    (1): BasicBlock(\n",
              "      (conv1): Conv2d(64, 64, kernel_size=(3, 3), stride=(1, 1), padding=(1, 1), bias=False)\n",
              "      (bn1): BatchNorm2d(64, eps=1e-05, momentum=0.1, affine=True, track_running_stats=True)\n",
              "      (relu): ReLU(inplace=True)\n",
              "      (conv2): Conv2d(64, 64, kernel_size=(3, 3), stride=(1, 1), padding=(1, 1), bias=False)\n",
              "      (bn2): BatchNorm2d(64, eps=1e-05, momentum=0.1, affine=True, track_running_stats=True)\n",
              "    )\n",
              "  )\n",
              "  (layer2): Sequential(\n",
              "    (0): BasicBlock(\n",
              "      (conv1): Conv2d(64, 128, kernel_size=(3, 3), stride=(2, 2), padding=(1, 1), bias=False)\n",
              "      (bn1): BatchNorm2d(128, eps=1e-05, momentum=0.1, affine=True, track_running_stats=True)\n",
              "      (relu): ReLU(inplace=True)\n",
              "      (conv2): Conv2d(128, 128, kernel_size=(3, 3), stride=(1, 1), padding=(1, 1), bias=False)\n",
              "      (bn2): BatchNorm2d(128, eps=1e-05, momentum=0.1, affine=True, track_running_stats=True)\n",
              "      (downsample): Sequential(\n",
              "        (0): Conv2d(64, 128, kernel_size=(1, 1), stride=(2, 2), bias=False)\n",
              "        (1): BatchNorm2d(128, eps=1e-05, momentum=0.1, affine=True, track_running_stats=True)\n",
              "      )\n",
              "    )\n",
              "    (1): BasicBlock(\n",
              "      (conv1): Conv2d(128, 128, kernel_size=(3, 3), stride=(1, 1), padding=(1, 1), bias=False)\n",
              "      (bn1): BatchNorm2d(128, eps=1e-05, momentum=0.1, affine=True, track_running_stats=True)\n",
              "      (relu): ReLU(inplace=True)\n",
              "      (conv2): Conv2d(128, 128, kernel_size=(3, 3), stride=(1, 1), padding=(1, 1), bias=False)\n",
              "      (bn2): BatchNorm2d(128, eps=1e-05, momentum=0.1, affine=True, track_running_stats=True)\n",
              "    )\n",
              "  )\n",
              "  (layer3): Sequential(\n",
              "    (0): BasicBlock(\n",
              "      (conv1): Conv2d(128, 256, kernel_size=(3, 3), stride=(2, 2), padding=(1, 1), bias=False)\n",
              "      (bn1): BatchNorm2d(256, eps=1e-05, momentum=0.1, affine=True, track_running_stats=True)\n",
              "      (relu): ReLU(inplace=True)\n",
              "      (conv2): Conv2d(256, 256, kernel_size=(3, 3), stride=(1, 1), padding=(1, 1), bias=False)\n",
              "      (bn2): BatchNorm2d(256, eps=1e-05, momentum=0.1, affine=True, track_running_stats=True)\n",
              "      (downsample): Sequential(\n",
              "        (0): Conv2d(128, 256, kernel_size=(1, 1), stride=(2, 2), bias=False)\n",
              "        (1): BatchNorm2d(256, eps=1e-05, momentum=0.1, affine=True, track_running_stats=True)\n",
              "      )\n",
              "    )\n",
              "    (1): BasicBlock(\n",
              "      (conv1): Conv2d(256, 256, kernel_size=(3, 3), stride=(1, 1), padding=(1, 1), bias=False)\n",
              "      (bn1): BatchNorm2d(256, eps=1e-05, momentum=0.1, affine=True, track_running_stats=True)\n",
              "      (relu): ReLU(inplace=True)\n",
              "      (conv2): Conv2d(256, 256, kernel_size=(3, 3), stride=(1, 1), padding=(1, 1), bias=False)\n",
              "      (bn2): BatchNorm2d(256, eps=1e-05, momentum=0.1, affine=True, track_running_stats=True)\n",
              "    )\n",
              "  )\n",
              "  (layer4): Sequential(\n",
              "    (0): BasicBlock(\n",
              "      (conv1): Conv2d(256, 512, kernel_size=(3, 3), stride=(2, 2), padding=(1, 1), bias=False)\n",
              "      (bn1): BatchNorm2d(512, eps=1e-05, momentum=0.1, affine=True, track_running_stats=True)\n",
              "      (relu): ReLU(inplace=True)\n",
              "      (conv2): Conv2d(512, 512, kernel_size=(3, 3), stride=(1, 1), padding=(1, 1), bias=False)\n",
              "      (bn2): BatchNorm2d(512, eps=1e-05, momentum=0.1, affine=True, track_running_stats=True)\n",
              "      (downsample): Sequential(\n",
              "        (0): Conv2d(256, 512, kernel_size=(1, 1), stride=(2, 2), bias=False)\n",
              "        (1): BatchNorm2d(512, eps=1e-05, momentum=0.1, affine=True, track_running_stats=True)\n",
              "      )\n",
              "    )\n",
              "    (1): BasicBlock(\n",
              "      (conv1): Conv2d(512, 512, kernel_size=(3, 3), stride=(1, 1), padding=(1, 1), bias=False)\n",
              "      (bn1): BatchNorm2d(512, eps=1e-05, momentum=0.1, affine=True, track_running_stats=True)\n",
              "      (relu): ReLU(inplace=True)\n",
              "      (conv2): Conv2d(512, 512, kernel_size=(3, 3), stride=(1, 1), padding=(1, 1), bias=False)\n",
              "      (bn2): BatchNorm2d(512, eps=1e-05, momentum=0.1, affine=True, track_running_stats=True)\n",
              "    )\n",
              "  )\n",
              "  (avgpool): AdaptiveAvgPool2d(output_size=(1, 1))\n",
              "  (fc): Linear(in_features=512, out_features=10, bias=True)\n",
              ")"
            ]
          },
          "metadata": {
            "tags": []
          },
          "execution_count": 17
        }
      ]
    },
    {
      "cell_type": "code",
      "metadata": {
        "id": "D6T7gkWS81u1",
        "colab_type": "code",
        "colab": {}
      },
      "source": [
        "opt_v = optim.Adam(model_v.parameters())\n",
        "opt_c = optim.Adam(model_c.parameters())\n",
        "loss_fn_v = nn.CrossEntropyLoss()\n",
        "loss_fn_c =  nn.CrossEntropyLoss()"
      ],
      "execution_count": 0,
      "outputs": []
    },
    {
      "cell_type": "code",
      "metadata": {
        "id": "CHWUhIDx83xm",
        "colab_type": "code",
        "colab": {}
      },
      "source": [
        "max_epochs = 45\n",
        "loss_arr= []\n",
        "st='cuda:0'\n"
      ],
      "execution_count": 0,
      "outputs": []
    },
    {
      "cell_type": "code",
      "metadata": {
        "id": "sfCP_ogT85ml",
        "colab_type": "code",
        "colab": {}
      },
      "source": [
        "sample_targets , sample_labels = next(iter(train_loader))"
      ],
      "execution_count": 0,
      "outputs": []
    },
    {
      "cell_type": "code",
      "metadata": {
        "id": "4QtEa_wG87BY",
        "colab_type": "code",
        "colab": {
          "base_uri": "https://localhost:8080/",
          "height": 161
        },
        "outputId": "e7ca08c1-6887-40c9-df4e-04d6aa3621ec"
      },
      "source": [
        "print(torch.max(sample_labels[:,0,:],1))\n"
      ],
      "execution_count": 21,
      "outputs": [
        {
          "output_type": "stream",
          "text": [
            "torch.return_types.max(\n",
            "values=tensor([1., 1., 1., 1., 1., 1., 1., 1., 1., 1., 1., 1., 1., 1., 1., 1., 1., 1.,\n",
            "        1., 1., 1., 1., 1., 1., 1., 1., 1., 1., 1., 1., 1., 1., 1., 1., 1., 1.,\n",
            "        1., 1., 1., 1., 1., 1., 1., 1., 1., 1., 1., 1., 1., 1., 1., 1., 1., 1.,\n",
            "        1., 1., 1., 1., 1., 1., 1., 1., 1., 1.]),\n",
            "indices=tensor([5, 6, 6, 0, 4, 7, 6, 6, 9, 8, 2, 5, 0, 6, 4, 6, 0, 5, 6, 4, 4, 2, 8, 5,\n",
            "        2, 2, 3, 3, 6, 2, 0, 3, 8, 0, 3, 6, 7, 6, 2, 6, 0, 5, 5, 4, 4, 4, 0, 3,\n",
            "        7, 4, 8, 7, 1, 1, 2, 5, 8, 3, 9, 5, 2, 5, 8, 1]))\n"
          ],
          "name": "stdout"
        }
      ]
    },
    {
      "cell_type": "code",
      "metadata": {
        "id": "4DEBcPiT88Kv",
        "colab_type": "code",
        "colab": {
          "base_uri": "https://localhost:8080/",
          "height": 827
        },
        "outputId": "f490576d-1540-42e6-9997-a592a464198e"
      },
      "source": [
        "loss_arr = []\n",
        "\n",
        "\n",
        "for epoch in range(max_epochs):\n",
        "  for i, data in enumerate(train_loader, 0):\n",
        "    inputs, labels = data\n",
        "    inputs, labels = inputs.to(device), labels.to(device)\n",
        "\n",
        "    v_out = model_v(inputs)\n",
        "    c_out = model_c(inputs)\n",
        "\n",
        "    opt_v.zero_grad()\n",
        "    opt_c.zero_grad()\n",
        "\n",
        "    #v_out = vgg_v(inputs)\n",
        "    #c_out = vgg_c(inputs)\n",
        "        \n",
        "        # targets\n",
        "    vowel_targets = labels[:, 0]\n",
        "    consonant_targets = labels[:, 1]\n",
        "    _, vowel_targets = torch.max(vowel_targets, axis =1)\n",
        "    _, consonant_targets = torch.max(consonant_targets, axis =1)\n",
        "        \n",
        "        \n",
        "    #v_loss = loss_fn_v(v_out, vowel_targets)\n",
        "    #c_loss = loss_fn_c(c_out, consonant_targets)\n",
        "        \n",
        "    loss = loss_fn_v(v_out, vowel_targets)  + loss_fn_c(c_out, consonant_targets) \n",
        "        \n",
        "    loss.backward()\n",
        "        \n",
        "        # optimize the parameters\n",
        "    opt_v.step( )\n",
        "    opt_c.step()\n",
        "    del inputs, labels\n",
        "    \n",
        "    loss_arr.append(loss.item())\n",
        "\n",
        "\n",
        "    #if i % 100 == 0:\n",
        "        #print(\"Iterations %d/%d loss = %0.2f\"%(i, n_iters, loss.item()))\n",
        "        \n",
        "  print(loss.item()) \n",
        "  #print('Epoch: %d/%d , test acc : %0.2f, train Acc %0.2f'% \n",
        "   #       (epoch, max_epochs, evaluation(validation_loader, vgg_c, vgg_v), evaluation(train_loader, vgg_c, vgg_v)))\n",
        "\n",
        "    "
      ],
      "execution_count": 22,
      "outputs": [
        {
          "output_type": "stream",
          "text": [
            "4.587306499481201\n",
            "4.242647171020508\n",
            "3.9240992069244385\n",
            "3.3963449001312256\n",
            "3.181135654449463\n",
            "2.640371322631836\n",
            "2.961015224456787\n",
            "2.5583748817443848\n",
            "2.0528721809387207\n",
            "2.1042773723602295\n",
            "2.3812668323516846\n",
            "1.701728105545044\n",
            "2.4465994834899902\n",
            "2.100846767425537\n",
            "1.8853840827941895\n",
            "1.449236273765564\n",
            "1.4144723415374756\n",
            "2.070723056793213\n",
            "1.527184247970581\n",
            "1.8512842655181885\n",
            "1.771956205368042\n",
            "1.5442225933074951\n",
            "1.5406392812728882\n",
            "1.667353630065918\n",
            "1.3800854682922363\n",
            "1.634181261062622\n",
            "1.5297819375991821\n",
            "1.7302157878875732\n",
            "1.3981335163116455\n",
            "1.5943537950515747\n",
            "1.2634356021881104\n",
            "1.9112496376037598\n",
            "1.8359158039093018\n",
            "1.1871998310089111\n",
            "1.628906011581421\n",
            "1.48870849609375\n",
            "1.3203401565551758\n",
            "1.3284894227981567\n",
            "1.4087719917297363\n",
            "1.8186874389648438\n",
            "1.4510188102722168\n",
            "1.7214076519012451\n",
            "2.054382085800171\n",
            "1.8390483856201172\n",
            "1.1131458282470703\n"
          ],
          "name": "stdout"
        }
      ]
    },
    {
      "cell_type": "code",
      "metadata": {
        "id": "R3flZlPy92Pd",
        "colab_type": "code",
        "colab": {}
      },
      "source": [
        "def evaluation(dataloader, model_c, model_v):\n",
        "  total,v,c= 0,0,0\n",
        "    \n",
        "  #total , correct_c, correct_v,correct = 0, 0,0, 0\n",
        "\n",
        "  for data in dataloader:\n",
        "    inputs, labels = data\n",
        "    inputs, labels = inputs.to(device), labels.to(device)\n",
        "    v_out_e = model_v(inputs)\n",
        "    c_out_e = model_c(inputs)\n",
        "\n",
        "      # targets\n",
        "    vowel_targets = labels[:, 0]\n",
        "    consonant_targets = labels[:, 1]\n",
        "    _, vowel_targets = torch.max(vowel_targets, axis =1)\n",
        "    _, consonant_targets = torch.max(consonant_targets, axis =1)\n",
        "\n",
        "    _, pred_v = torch.max(v_out_e, 1)\n",
        "    _, pred_c = torch.max(c_out_e, 1)\n",
        "    total += labels.size(0)\n",
        "    v += (pred_v==vowel_targets).sum().item()\n",
        "    c += (pred_c==consonant_targets).sum().item()\n",
        "\n",
        "  print('total images:',total)\n",
        "  print('correct vowels predictions:',v)\n",
        "  print('correct consonants predictions:',c)\n",
        "  print('Vowel Accuracy: ',(v/total)*100, '%')\n",
        "  print('Consonants Accuracy: ',(c/total)*100,'%')\n",
        "        \n",
        "    \n",
        "    #if( (pred_v == vowel_targets).sum().item() and  (pred_c == consonant_targets).sum().item() ):\n",
        "     #   correct += 1\n",
        "\n",
        "\n",
        "    #correct_v += (pred_v == vowel_targets).sum().item()\n",
        "\n",
        "    #correct_c += (pred_c == consonant_targets).sum().item()\n",
        "     #correct = correct_c + correct_v\n",
        "\n",
        "  #return 100 * ( correct / total )\n",
        "\n",
        "\n",
        "\n",
        "\n",
        "\n",
        "\n",
        "\n",
        "\n",
        "    "
      ],
      "execution_count": 0,
      "outputs": []
    },
    {
      "cell_type": "code",
      "metadata": {
        "id": "u5XVfooPJ-rj",
        "colab_type": "code",
        "colab": {
          "base_uri": "https://localhost:8080/",
          "height": 107
        },
        "outputId": "1c534634-aa41-45c6-d55f-f73bf7f697ad"
      },
      "source": [
        "evaluation(train_loader,model_c,model_v)\n"
      ],
      "execution_count": 24,
      "outputs": [
        {
          "output_type": "stream",
          "text": [
            "total images: 9000\n",
            "correct vowels predictions: 6005\n",
            "correct consonants predictions: 6715\n",
            "Vowel Accuracy:  66.72222222222223 %\n",
            "Consonants Accuracy:  74.6111111111111 %\n"
          ],
          "name": "stdout"
        }
      ]
    },
    {
      "cell_type": "code",
      "metadata": {
        "id": "jZbIST_3KBDI",
        "colab_type": "code",
        "colab": {}
      },
      "source": [
        ""
      ],
      "execution_count": 0,
      "outputs": []
    }
  ]
}